{
 "cells": [
  {
   "cell_type": "code",
   "execution_count": 1,
   "metadata": {},
   "outputs": [],
   "source": [
    "# imports \n",
    "import pandas as pd\n",
    "import numpy as np\n",
    "from matplotlib import pyplot as plt"
   ]
  },
  {
   "cell_type": "code",
   "execution_count": 4,
   "metadata": {},
   "outputs": [
    {
     "name": "stdout",
     "output_type": "stream",
     "text": [
      "        Restaurant              Reviewer  \\\n",
      "0  Beyond Flavours     Rusha Chakraborty   \n",
      "1  Beyond Flavours  Anusha Tirumalaneedi   \n",
      "2  Beyond Flavours       Ashok Shekhawat   \n",
      "3  Beyond Flavours        Swapnil Sarkar   \n",
      "4  Beyond Flavours                Dileep   \n",
      "\n",
      "                                              Review Rating  \\\n",
      "0  The ambience was good, food was quite good . h...      5   \n",
      "1  Ambience is too good for a pleasant evening. S...      5   \n",
      "2  A must try.. great food great ambience. Thnx f...      5   \n",
      "3  Soumen das and Arun was a great guy. Only beca...      5   \n",
      "4  Food is good.we ordered Kodi drumsticks and ba...      5   \n",
      "\n",
      "                  Metadata             Time  Pictures    7514  \n",
      "0   1 Review , 2 Followers  5/25/2019 15:54         0  2447.0  \n",
      "1  3 Reviews , 2 Followers  5/25/2019 14:20         0     NaN  \n",
      "2  2 Reviews , 3 Followers  5/24/2019 22:54         0     NaN  \n",
      "3    1 Review , 1 Follower  5/24/2019 22:11         0     NaN  \n",
      "4  3 Reviews , 2 Followers  5/24/2019 21:37         0     NaN  \n"
     ]
    }
   ],
   "source": [
    "data = pd.read_csv('Restaurant Reviews.csv')\n",
    "print(data.head())\n",
    "print(data.describe())\n",
    "print(data.info())\n",
    "print(data.shape)"
   ]
  },
  {
   "cell_type": "code",
   "execution_count": 6,
   "metadata": {},
   "outputs": [
    {
     "name": "stdout",
     "output_type": "stream",
     "text": [
      "Index(['Restaurant', 'Reviewer', 'Review', 'Rating', 'Metadata', 'Time',\n",
      "       'Pictures', '7514'],\n",
      "      dtype='object')\n",
      "[2447.   nan]\n",
      "        Restaurant    7514\n",
      "0  Beyond Flavours  2447.0\n",
      "1  Beyond Flavours     NaN\n",
      "2  Beyond Flavours     NaN\n",
      "3  Beyond Flavours     NaN\n",
      "4  Beyond Flavours     NaN\n",
      "5  Beyond Flavours     NaN\n",
      "6  Beyond Flavours     NaN\n",
      "7  Beyond Flavours     NaN\n",
      "8  Beyond Flavours     NaN\n",
      "9  Beyond Flavours     NaN\n"
     ]
    }
   ],
   "source": [
    "print(data.columns)  # See all column names\n",
    "print(data['7514'].unique())  # Check unique values\n",
    "print(data[['Restaurant', '7514']].head(10))"
   ]
  },
  {
   "cell_type": "code",
   "execution_count": null,
   "metadata": {},
   "outputs": [],
   "source": []
  }
 ],
 "metadata": {
  "kernelspec": {
   "display_name": "Python 3",
   "language": "python",
   "name": "python3"
  },
  "language_info": {
   "codemirror_mode": {
    "name": "ipython",
    "version": 3
   },
   "file_extension": ".py",
   "mimetype": "text/x-python",
   "name": "python",
   "nbconvert_exporter": "python",
   "pygments_lexer": "ipython3",
   "version": "3.10.11"
  }
 },
 "nbformat": 4,
 "nbformat_minor": 2
}
