{
 "cells": [
  {
   "cell_type": "code",
   "execution_count": 2,
   "metadata": {},
   "outputs": [],
   "source": [
    "import pandas as pd"
   ]
  },
  {
   "cell_type": "code",
   "execution_count": 3,
   "metadata": {},
   "outputs": [
    {
     "name": "stdout",
     "output_type": "stream",
     "text": [
      "        Restaurant              Reviewer  \\\n",
      "0  Beyond Flavours     Rusha Chakraborty   \n",
      "1  Beyond Flavours  Anusha Tirumalaneedi   \n",
      "2  Beyond Flavours       Ashok Shekhawat   \n",
      "3  Beyond Flavours        Swapnil Sarkar   \n",
      "4  Beyond Flavours                Dileep   \n",
      "\n",
      "                                              Review  Rating  \\\n",
      "0  The ambience was good, food was quite good . h...     5.0   \n",
      "1  Ambience is too good for a pleasant evening. S...     5.0   \n",
      "2  A must try.. great food great ambience. Thnx f...     5.0   \n",
      "3  Soumen das and Arun was a great guy. Only beca...     5.0   \n",
      "4  Food is good.we ordered Kodi drumsticks and ba...     5.0   \n",
      "\n",
      "                  Metadata                 Time  Pictures  Review_Count  \\\n",
      "0   1 Review , 2 Followers  2019-05-25 15:54:00         0           1.0   \n",
      "1  3 Reviews , 2 Followers  2019-05-25 14:20:00         0           3.0   \n",
      "2  2 Reviews , 3 Followers  2019-05-24 22:54:00         0           2.0   \n",
      "3    1 Review , 1 Follower  2019-05-24 22:11:00         0           1.0   \n",
      "4  3 Reviews , 2 Followers  2019-05-24 21:37:00         0           3.0   \n",
      "\n",
      "   Follower_Count  Review_Length  \n",
      "0             2.0            222  \n",
      "1             2.0            144  \n",
      "2             3.0            189  \n",
      "3             1.0            148  \n",
      "4             2.0            160  \n"
     ]
    }
   ],
   "source": [
    "file_path = \"../data exploration/explored_data.csv\"  # Move up one directory and into 'data exploration'\n",
    "data = pd.read_csv(file_path)\n",
    "\n",
    "print(data.head())"
   ]
  },
  {
   "cell_type": "code",
   "execution_count": null,
   "metadata": {},
   "outputs": [],
   "source": []
  }
 ],
 "metadata": {
  "kernelspec": {
   "display_name": "Python 3",
   "language": "python",
   "name": "python3"
  },
  "language_info": {
   "codemirror_mode": {
    "name": "ipython",
    "version": 3
   },
   "file_extension": ".py",
   "mimetype": "text/x-python",
   "name": "python",
   "nbconvert_exporter": "python",
   "pygments_lexer": "ipython3",
   "version": "3.10.11"
  }
 },
 "nbformat": 4,
 "nbformat_minor": 2
}
