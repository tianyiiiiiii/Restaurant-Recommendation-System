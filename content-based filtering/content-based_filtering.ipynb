{
 "cells": [
  {
   "cell_type": "code",
   "execution_count": 88,
   "metadata": {},
   "outputs": [],
   "source": [
    "import pandas as pd\n",
    "import numpy as np\n",
    "from sklearn.feature_extraction.text import TfidfVectorizer\n",
    "from sklearn.metrics.pairwise import cosine_similarity\n",
    "import re"
   ]
  },
  {
   "cell_type": "code",
   "execution_count": 89,
   "metadata": {},
   "outputs": [
    {
     "name": "stdout",
     "output_type": "stream",
     "text": [
      "        Restaurant              Reviewer  \\\n",
      "0  Beyond Flavours     Rusha Chakraborty   \n",
      "1  Beyond Flavours  Anusha Tirumalaneedi   \n",
      "2  Beyond Flavours       Ashok Shekhawat   \n",
      "3  Beyond Flavours        Swapnil Sarkar   \n",
      "4  Beyond Flavours                Dileep   \n",
      "\n",
      "                                              Review  Rating  \\\n",
      "0  The ambience was good, food was quite good . h...     5.0   \n",
      "1  Ambience is too good for a pleasant evening. S...     5.0   \n",
      "2  A must try.. great food great ambience. Thnx f...     5.0   \n",
      "3  Soumen das and Arun was a great guy. Only beca...     5.0   \n",
      "4  Food is good.we ordered Kodi drumsticks and ba...     5.0   \n",
      "\n",
      "                  Time  Pictures  Review_Count  Follower_Count  Review_Length  \n",
      "0  2019-05-25 15:54:00         0           1.0             2.0            222  \n",
      "1  2019-05-25 14:20:00         0           3.0             2.0            144  \n",
      "2  2019-05-24 22:54:00         0           2.0             3.0            189  \n",
      "3  2019-05-24 22:11:00         0           1.0             1.0            148  \n",
      "4  2019-05-24 21:37:00         0           3.0             2.0            160  \n"
     ]
    }
   ],
   "source": [
    "file_path = \"../data exploration/explored_data.csv\"  \n",
    "data = pd.read_csv(file_path)\n",
    "\n",
    "print(data.head())"
   ]
  },
  {
   "cell_type": "code",
   "execution_count": 90,
   "metadata": {},
   "outputs": [
    {
     "data": {
      "text/html": [
       "<div>\n",
       "<style scoped>\n",
       "    .dataframe tbody tr th:only-of-type {\n",
       "        vertical-align: middle;\n",
       "    }\n",
       "\n",
       "    .dataframe tbody tr th {\n",
       "        vertical-align: top;\n",
       "    }\n",
       "\n",
       "    .dataframe thead th {\n",
       "        text-align: right;\n",
       "    }\n",
       "</style>\n",
       "<table border=\"1\" class=\"dataframe\">\n",
       "  <thead>\n",
       "    <tr style=\"text-align: right;\">\n",
       "      <th></th>\n",
       "      <th>Restaurant</th>\n",
       "      <th>Review</th>\n",
       "    </tr>\n",
       "  </thead>\n",
       "  <tbody>\n",
       "    <tr>\n",
       "      <th>0</th>\n",
       "      <td>10 Downing Street</td>\n",
       "      <td>I've been to this place about two times and i ...</td>\n",
       "    </tr>\n",
       "    <tr>\n",
       "      <th>1</th>\n",
       "      <td>13 Dhaba</td>\n",
       "      <td>I didn't go and eat at the Dhaba.\\nI had order...</td>\n",
       "    </tr>\n",
       "    <tr>\n",
       "      <th>2</th>\n",
       "      <td>3B's - Buddies, Bar &amp; Barbecue</td>\n",
       "      <td>We go their for a team dinner.The name of the ...</td>\n",
       "    </tr>\n",
       "    <tr>\n",
       "      <th>3</th>\n",
       "      <td>AB's - Absolute Barbecues</td>\n",
       "      <td>It was excellent experience spiced thank Krish...</td>\n",
       "    </tr>\n",
       "    <tr>\n",
       "      <th>4</th>\n",
       "      <td>Absolute Sizzlers</td>\n",
       "      <td>Service was pathetic. Ordered a sizzler with l...</td>\n",
       "    </tr>\n",
       "    <tr>\n",
       "      <th>...</th>\n",
       "      <td>...</td>\n",
       "      <td>...</td>\n",
       "    </tr>\n",
       "    <tr>\n",
       "      <th>95</th>\n",
       "      <td>Urban Asia - Kitchen &amp; Bar</td>\n",
       "      <td>This place is highly recommended. It is workin...</td>\n",
       "    </tr>\n",
       "    <tr>\n",
       "      <th>96</th>\n",
       "      <td>Yum Yum Tree - The Arabian Food Court</td>\n",
       "      <td>It is at 6th floor of Act Boutique building th...</td>\n",
       "    </tr>\n",
       "    <tr>\n",
       "      <th>97</th>\n",
       "      <td>Zega - Sheraton Hyderabad Hotel</td>\n",
       "      <td>My husband and I, visited Zega for their dimsu...</td>\n",
       "    </tr>\n",
       "    <tr>\n",
       "      <th>98</th>\n",
       "      <td>Zing's Northeast Kitchen</td>\n",
       "      <td>The food is toooooooooo good. The interior and...</td>\n",
       "    </tr>\n",
       "    <tr>\n",
       "      <th>99</th>\n",
       "      <td>eat.fit</td>\n",
       "      <td>I had ordered gobi methi paratha.. it was ok. ...</td>\n",
       "    </tr>\n",
       "  </tbody>\n",
       "</table>\n",
       "<p>100 rows × 2 columns</p>\n",
       "</div>"
      ],
      "text/plain": [
       "                               Restaurant  \\\n",
       "0                       10 Downing Street   \n",
       "1                                13 Dhaba   \n",
       "2          3B's - Buddies, Bar & Barbecue   \n",
       "3               AB's - Absolute Barbecues   \n",
       "4                       Absolute Sizzlers   \n",
       "..                                    ...   \n",
       "95             Urban Asia - Kitchen & Bar   \n",
       "96  Yum Yum Tree - The Arabian Food Court   \n",
       "97        Zega - Sheraton Hyderabad Hotel   \n",
       "98               Zing's Northeast Kitchen   \n",
       "99                                eat.fit   \n",
       "\n",
       "                                               Review  \n",
       "0   I've been to this place about two times and i ...  \n",
       "1   I didn't go and eat at the Dhaba.\\nI had order...  \n",
       "2   We go their for a team dinner.The name of the ...  \n",
       "3   It was excellent experience spiced thank Krish...  \n",
       "4   Service was pathetic. Ordered a sizzler with l...  \n",
       "..                                                ...  \n",
       "95  This place is highly recommended. It is workin...  \n",
       "96  It is at 6th floor of Act Boutique building th...  \n",
       "97  My husband and I, visited Zega for their dimsu...  \n",
       "98  The food is toooooooooo good. The interior and...  \n",
       "99  I had ordered gobi methi paratha.. it was ok. ...  \n",
       "\n",
       "[100 rows x 2 columns]"
      ]
     },
     "execution_count": 90,
     "metadata": {},
     "output_type": "execute_result"
    }
   ],
   "source": [
    "corpus = data.groupby(\"Restaurant\")[\"Review\"].apply(lambda x: \" \".join(x.dropna().astype(str))).reset_index()\n",
    "corpus"
   ]
  },
  {
   "cell_type": "code",
   "execution_count": 91,
   "metadata": {},
   "outputs": [
    {
     "data": {
      "text/html": [
       "<div>\n",
       "<style scoped>\n",
       "    .dataframe tbody tr th:only-of-type {\n",
       "        vertical-align: middle;\n",
       "    }\n",
       "\n",
       "    .dataframe tbody tr th {\n",
       "        vertical-align: top;\n",
       "    }\n",
       "\n",
       "    .dataframe thead th {\n",
       "        text-align: right;\n",
       "    }\n",
       "</style>\n",
       "<table border=\"1\" class=\"dataframe\">\n",
       "  <thead>\n",
       "    <tr style=\"text-align: right;\">\n",
       "      <th></th>\n",
       "      <th>Restaurant</th>\n",
       "      <th>Review</th>\n",
       "    </tr>\n",
       "  </thead>\n",
       "  <tbody>\n",
       "    <tr>\n",
       "      <th>0</th>\n",
       "      <td>10 Downing Street</td>\n",
       "      <td>ive been to this place about two times and i r...</td>\n",
       "    </tr>\n",
       "    <tr>\n",
       "      <th>1</th>\n",
       "      <td>13 Dhaba</td>\n",
       "      <td>i didnt go and eat at the dhaba\\ni had ordered...</td>\n",
       "    </tr>\n",
       "    <tr>\n",
       "      <th>2</th>\n",
       "      <td>3B's - Buddies, Bar &amp; Barbecue</td>\n",
       "      <td>we go their for a team dinnerthe name of the g...</td>\n",
       "    </tr>\n",
       "    <tr>\n",
       "      <th>3</th>\n",
       "      <td>AB's - Absolute Barbecues</td>\n",
       "      <td>it was excellent experience spiced thank krish...</td>\n",
       "    </tr>\n",
       "    <tr>\n",
       "      <th>4</th>\n",
       "      <td>Absolute Sizzlers</td>\n",
       "      <td>service was pathetic ordered a sizzler with la...</td>\n",
       "    </tr>\n",
       "    <tr>\n",
       "      <th>...</th>\n",
       "      <td>...</td>\n",
       "      <td>...</td>\n",
       "    </tr>\n",
       "    <tr>\n",
       "      <th>95</th>\n",
       "      <td>Urban Asia - Kitchen &amp; Bar</td>\n",
       "      <td>this place is highly recommended it is working...</td>\n",
       "    </tr>\n",
       "    <tr>\n",
       "      <th>96</th>\n",
       "      <td>Yum Yum Tree - The Arabian Food Court</td>\n",
       "      <td>it is at 6th floor of act boutique building th...</td>\n",
       "    </tr>\n",
       "    <tr>\n",
       "      <th>97</th>\n",
       "      <td>Zega - Sheraton Hyderabad Hotel</td>\n",
       "      <td>my husband and i visited zega for their dimsum...</td>\n",
       "    </tr>\n",
       "    <tr>\n",
       "      <th>98</th>\n",
       "      <td>Zing's Northeast Kitchen</td>\n",
       "      <td>the food is toooooooooo good the interior and ...</td>\n",
       "    </tr>\n",
       "    <tr>\n",
       "      <th>99</th>\n",
       "      <td>eat.fit</td>\n",
       "      <td>i had ordered gobi methi paratha it was ok not...</td>\n",
       "    </tr>\n",
       "  </tbody>\n",
       "</table>\n",
       "<p>100 rows × 2 columns</p>\n",
       "</div>"
      ],
      "text/plain": [
       "                               Restaurant  \\\n",
       "0                       10 Downing Street   \n",
       "1                                13 Dhaba   \n",
       "2          3B's - Buddies, Bar & Barbecue   \n",
       "3               AB's - Absolute Barbecues   \n",
       "4                       Absolute Sizzlers   \n",
       "..                                    ...   \n",
       "95             Urban Asia - Kitchen & Bar   \n",
       "96  Yum Yum Tree - The Arabian Food Court   \n",
       "97        Zega - Sheraton Hyderabad Hotel   \n",
       "98               Zing's Northeast Kitchen   \n",
       "99                                eat.fit   \n",
       "\n",
       "                                               Review  \n",
       "0   ive been to this place about two times and i r...  \n",
       "1   i didnt go and eat at the dhaba\\ni had ordered...  \n",
       "2   we go their for a team dinnerthe name of the g...  \n",
       "3   it was excellent experience spiced thank krish...  \n",
       "4   service was pathetic ordered a sizzler with la...  \n",
       "..                                                ...  \n",
       "95  this place is highly recommended it is working...  \n",
       "96  it is at 6th floor of act boutique building th...  \n",
       "97  my husband and i visited zega for their dimsum...  \n",
       "98  the food is toooooooooo good the interior and ...  \n",
       "99  i had ordered gobi methi paratha it was ok not...  \n",
       "\n",
       "[100 rows x 2 columns]"
      ]
     },
     "execution_count": 91,
     "metadata": {},
     "output_type": "execute_result"
    }
   ],
   "source": [
    "def preprocess_text(text):\n",
    "    text = text.lower() \n",
    "    text = re.sub(r\"[^a-zA-Z0-9\\s]\", \"\", text)  # Remove special characters\n",
    "    return text\n",
    "\n",
    "corpus[\"Review\"] = corpus[\"Review\"].apply(preprocess_text)\n",
    "corpus"
   ]
  },
  {
   "cell_type": "code",
   "execution_count": 92,
   "metadata": {},
   "outputs": [
    {
     "name": "stdout",
     "output_type": "stream",
     "text": [
      "['015' '03am' '03feb2019' ... 'zoomato' 'zucchini' 'zyada']\n",
      "[[0. 0. 0. ... 0. 0. 0.]\n",
      " [0. 0. 0. ... 0. 0. 0.]\n",
      " [0. 0. 0. ... 0. 0. 0.]\n",
      " ...\n",
      " [0. 0. 0. ... 0. 0. 0.]\n",
      " [0. 0. 0. ... 0. 0. 0.]\n",
      " [0. 0. 0. ... 0. 0. 0.]]\n",
      "\n",
      "The shape of the TF-IDF matrix is:  (100, 18580)\n"
     ]
    }
   ],
   "source": [
    "vectorizer = TfidfVectorizer(stop_words=\"english\")\n",
    "tfidf_matrix = vectorizer.fit_transform(corpus[\"Review\"])\n",
    "print(vectorizer.get_feature_names_out())\n",
    "print(tfidf_matrix.toarray())\n",
    "print(\"\\nThe shape of the TF-IDF matrix is: \", tfidf_matrix.shape)"
   ]
  },
  {
   "cell_type": "code",
   "execution_count": 93,
   "metadata": {},
   "outputs": [
    {
     "name": "stdout",
     "output_type": "stream",
     "text": [
      "[[1.         0.30756349 0.27412256 ... 0.49502869 0.36070033 0.29913375]\n",
      " [0.30756349 1.         0.16753217 ... 0.26303299 0.2451759  0.34587796]\n",
      " [0.27412256 0.16753217 1.         ... 0.26795469 0.19825933 0.1685686 ]\n",
      " ...\n",
      " [0.49502869 0.26303299 0.26795469 ... 1.         0.36109702 0.26751618]\n",
      " [0.36070033 0.2451759  0.19825933 ... 0.36109702 1.         0.27668356]\n",
      " [0.29913375 0.34587796 0.1685686  ... 0.26751618 0.27668356 1.        ]]\n"
     ]
    }
   ],
   "source": [
    "similarity_matrix = cosine_similarity(tfidf_matrix)\n",
    "print(similarity_matrix)"
   ]
  },
  {
   "cell_type": "code",
   "execution_count": 94,
   "metadata": {},
   "outputs": [],
   "source": [
    "def recommend_similar_restaurants(restaurant_name, data, similarity_matrix, top_n=5):\n",
    "    if restaurant_name not in data[\"Restaurant\"].values:\n",
    "        return f\"Restaurant '{restaurant_name}' not found in dataset.\"\n",
    "\n",
    "    restaurant_index = data[data[\"Restaurant\"] == restaurant_name].index[0]\n",
    "\n",
    "    similar_restaurants = list(enumerate(similarity_matrix[restaurant_index]))\n",
    "    similar_restaurants = sorted(similar_restaurants, key=lambda x: x[1], reverse=True)[1:top_n+1]\n",
    "\n",
    "    recommendations = [(data[\"Restaurant\"].iloc[i[0]], i[1]) for i in similar_restaurants]\n",
    "\n",
    "    print(f\"\\nRestaurants similar to '{restaurant_name}':\\n\")\n",
    "    for rec, score in recommendations:\n",
    "        print(f\"{rec} - Similarity Score: {score:.4f}\")\n",
    "\n",
    "    return recommendations"
   ]
  },
  {
   "cell_type": "code",
   "execution_count": 95,
   "metadata": {},
   "outputs": [
    {
     "name": "stdout",
     "output_type": "stream",
     "text": [
      "\n",
      "Restaurants similar to 'Mohammedia Shawarma':\n",
      "\n",
      "Shah Ghouse Spl Shawarma - Similarity Score: 0.8570\n",
      "The Foodie Monster Kitchen - Similarity Score: 0.4973\n",
      "Hotel Zara Hi-Fi - Similarity Score: 0.2624\n",
      "Being Hungry - Similarity Score: 0.2428\n",
      "Tandoori Food Works - Similarity Score: 0.2350\n"
     ]
    }
   ],
   "source": [
    "restaurant_name = \"Mohammedia Shawarma\"  # Change to any restaurant in dataset\n",
    "recommendations = recommend_similar_restaurants(restaurant_name, corpus, similarity_matrix)"
   ]
  },
  {
   "cell_type": "markdown",
   "metadata": {},
   "source": []
  }
 ],
 "metadata": {
  "kernelspec": {
   "display_name": "Python 3",
   "language": "python",
   "name": "python3"
  },
  "language_info": {
   "codemirror_mode": {
    "name": "ipython",
    "version": 3
   },
   "file_extension": ".py",
   "mimetype": "text/x-python",
   "name": "python",
   "nbconvert_exporter": "python",
   "pygments_lexer": "ipython3",
   "version": "3.10.11"
  }
 },
 "nbformat": 4,
 "nbformat_minor": 2
}
